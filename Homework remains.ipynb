{
 "cells": [
  {
   "cell_type": "code",
   "execution_count": 1,
   "metadata": {},
   "outputs": [
    {
     "ename": "SyntaxError",
     "evalue": "invalid syntax (<ipython-input-1-ed806b711eac>, line 10)",
     "output_type": "error",
     "traceback": [
      "\u001b[0;36m  File \u001b[0;32m\"<ipython-input-1-ed806b711eac>\"\u001b[0;36m, line \u001b[0;32m10\u001b[0m\n\u001b[0;31m    if col[:2]=='03'\u001b[0m\n\u001b[0m                    ^\u001b[0m\n\u001b[0;31mSyntaxError\u001b[0m\u001b[0;31m:\u001b[0m invalid syntax\n"
     ]
    }
   ],
   "source": [
    "import pandas as pd\n",
    "\n",
    "df=pd.read_csv('olympics.csv', index_col=0, skiprowa=1)\n",
    "\n",
    "for col in df.columns:\n",
    "    if col[:2]=='01':\n",
    "        df.rename(columns={col:'Gold'+col[4:]}, inplace=True)\n",
    "    if col[:2]=='02':\n",
    "        df.rename(columns={col:'Silver'+col[4:]}, inplace=True)\n",
    "    if col[:2]=='03'\n",
    "        df.rename(columns={col:'Bronze'+col[4:]}, inplace=True)\n",
    "    if col[:1]=='No':\n",
    "        df.rename(columns={col:'#'+col[1:]}, inplace=True)\n",
    "        \n",
    "names_ids=df.index.str.split('\\s\\(') # split the index by '('\n",
    "\n",
    "df.index=names_ids.str[0] # the [0] element is the country name( new index )\n",
    "df['ID']=names_ids.str[1].str[:3] # the [1] element is the abbreviation or ID ( take first 3 characters from that)\n",
    "\n",
    "df=df.drop('Totals')\n",
    "df.head()"
   ]
  },
  {
   "cell_type": "markdown",
   "metadata": {},
   "source": [
    "### Question 0 "
   ]
  },
  {
   "cell_type": "markdown",
   "metadata": {},
   "source": [
    "What is the first country in df?\n",
    "This function should return a Series."
   ]
  },
  {
   "cell_type": "code",
   "execution_count": null,
   "metadata": {},
   "outputs": [],
   "source": [
    "def answer_zero():\n",
    "    return df.iloc[0]\n",
    "\n",
    "answer_zero()"
   ]
  },
  {
   "cell_type": "markdown",
   "metadata": {},
   "source": [
    "### Question 1  "
   ]
  },
  {
   "cell_type": "markdown",
   "metadata": {},
   "source": [
    "Which country has won the most gold medals in summer games?\n",
    "This function should return a single string value."
   ]
  },
  {
   "cell_type": "code",
   "execution_count": null,
   "metadata": {},
   "outputs": [],
   "source": [
    "def answer_one():\n",
    "    df1=df.where(df['Gold']==max(df['Gold']))\n",
    "    df1=df1.dropna()\n",
    "    return df1.index\n",
    "\n",
    "answer_one()"
   ]
  },
  {
   "cell_type": "markdown",
   "metadata": {},
   "source": [
    "### Question 2 "
   ]
  },
  {
   "cell_type": "markdown",
   "metadata": {},
   "source": [
    "Which country had the biggest difference between their summer and winter gold medal counts?\n",
    "\n",
    "This function should return a single string value."
   ]
  },
  {
   "cell_type": "code",
   "execution_count": null,
   "metadata": {},
   "outputs": [],
   "source": [
    "def answer_two():\n",
    "    df2=df.where((df['Gold']-df['Gold.1'])==max(df['Gold']-df['Gold.1']))\n",
    "    df2=df2.dropna()\n",
    "    return df2.index\n",
    "\n",
    "answer_two()"
   ]
  },
  {
   "cell_type": "markdown",
   "metadata": {},
   "source": [
    "### Question 3\n",
    "Which country has the biggest difference between thier summer gold medal counts and winter gold medal counts relative to their total medal count?\n",
    "\n",
    "$$\\frac{Summer~Gold - Winter~Gold}{Total~Gold}$$\n",
    "\n",
    "Only include countries that have won at least 1 gold in both summer and winter.\n",
    "\n",
    "*This function should return a single string value.*"
   ]
  },
  {
   "cell_type": "code",
   "execution_count": null,
   "metadata": {},
   "outputs": [],
   "source": [
    "def answer_three():\n",
    "    \n",
    "    return answer_three\n",
    "\n",
    "answer_three()"
   ]
  },
  {
   "cell_type": "markdown",
   "metadata": {},
   "source": [
    "# More Pandas\n"
   ]
  },
  {
   "cell_type": "markdown",
   "metadata": {},
   "source": [
    "### Question 1\n",
    "Load the energy data from the file `Energy Indicators.xls`, which is a list of indicators of [energy supply and renewable electricity production](Energy%20Indicators.xls) from the [United Natons](http://unstats.un.org/unsd/environment/excel_file_tables/2013/Energy%20Indicators.xls) for the year 2013, and should be put into a DataFrame with the variable name of **energy**.\n",
    "\n",
    "Keep in mind that this is an Excel file, and not a comma separated values file. Also, make sure to exclude the footer and header information from the datafile. The first two columns are unnecessary, so you should get rid of them, and you should change the column labels so that the columns are:\n",
    "\n",
    "`['Country', 'Energy Supply', 'Energy Supply per Capita', '% Renewable']`\n",
    "\n",
    "Convert `Energy Supply` to gigajoules (there are 1,000,000 gigajoules in a petajoule). For all countries which have missing data (e.g. data with \"...\") make sure this is reflected as `np.naN` values.\n",
    "\n",
    "Rename the following list of countries (for use in later questions):\n",
    "\n",
    "```\"......\"\n",
    "\n",
    "```\n",
    "There are also several countries with numbers and/or paranthesis in their name. Be sure to remove these.\n",
    "\n",
    "Next, load the GDP data from the file `world_bank.csv`, which is a csv containing countries' GDP from 1960 to 2015 from [World Bank]. Call this DataFrame **GDP**.\n",
    "\n",
    "Make sure to skip the header, and rename the following list of countries:\n",
    "\n",
    "```\"Korea, Rep.\": \"South Korea\",\n",
    "\"Iran, Islamic Rep.\": \"Iran\"\n",
    "```\n",
    "\n",
    "Finally, load the [Sciamgo Jouornal and Country Rank data for Energy Engineering and Power Technology.] from the file `scimagojr-33.xlsx`, which ranks countries based on their journal contributions in the aforementioned area. Call this DataFrame **ScimEn**.\n",
    "\n",
    "Join the three datasets: GDP, Energy, and ScimEn into a new dataset (using the intersection of country names). Use only the last 10 years (2006-2015) of GDP data and only the top 15 countries by Scimagojr 'Rank' (Rank 1 through 15).\n",
    "\n",
    "The index of the DataFrame should be the name of the country, and the columns should be \n",
    "['Rank', 'Documents', 'Citable documents', 'Citations', 'Self-citations', 'Citations per document', 'H index', 'Energy Supply', 'Energy Supply per Capita', '% Renewable', '2006', '2007', '2008', '2009', '2010', '2011', '2012', '2013', '2014', '2015'].\n",
    "\n",
    "*This function should return a DataFrame with 20 columns and 15 entries.*\n"
   ]
  },
  {
   "cell_type": "code",
   "execution_count": null,
   "metadata": {},
   "outputs": [],
   "source": [
    "import pandas as pd\n",
    "\n",
    "energy = pd.read_excel('Energy Indicators.xls', skiprows=1, \n",
    "                       header=14, skip_footer=38)\n",
    "colsenergy = ['Unnamed: 2', 'Energy Supply', 'Energy Supply per Capita', \n",
    "              'Renewable Electricity Production']\n",
    "energy = (energy[colsenergy].rename(columns = {'Unnamed: 2': 'Country',\n",
    "                                              'Energy Supply per Capita': 'Energy Supply per Capita',\n",
    "                                              'Renewable Electricity Production': '% Renewable'}).iloc[1:])\n",
    "energy = energy[energy != '...']\n",
    "energy['Energy Supply'] = energy['Energy Supply']*1000000\n",
    "energy['Energy Supply'] = energy['Energy Supply'].astype('float')\n",
    "energy['% Renewable'] = energy['% Renewbale'].astype('float')\n",
    "energy['Energy Supply per Capita'] = energy['Energy Supply per Capita'].astype('float')"
   ]
  },
  {
   "cell_type": "code",
   "execution_count": null,
   "metadata": {},
   "outputs": [],
   "source": [
    "import re\n",
    "for i in range(len(energy)):\n",
    "    i+=1\n",
    "    energy['Country'][i]=re.sub('Republic of Korea', 'South Korea', energy['Country'][i])\n",
    "    energy['Country'][i]=re.sub('United States of America', 'United States', energy['Country'][i])\n",
    "    energy['Country'][i]=re.sub('United Kingdom of Great Britain and Northern Ireland', 'United Kingdom', energy['Country'][i])\n",
    "    energy['Country'][i]=re.sub('China, Hong Kong Special Administrative Region', 'Hong Kong', energy['Country'][i])\n",
    "    energy['Country'][i]=re.sub('\\d+','',energy['Country'][i])\n",
    "    energy['Country'][i]=re.sub('\\(.+','',energy['Country'][i])\n",
    "    \n",
    "GDP=pd.read_csv('world_bank.csv', header=4)\n",
    "renames={\"Korea, Rep.\": \"South Korea\", \"Iran, Islamic Rep.\": \"Iran\", \"Hong Kong SAR, China\": \"Hong Kong\"}\n",
    "GDP['Country Name']=GDP['Country Name'].replace(renames)\n",
    "\n",
    "ScimEn=pd.read_excel('scimagojr-3.xlsx')\n",
    "\n",
    "energyM=energy.set_index('Country')\n",
    "colsGDP=['Country Name', '2006', '2007', '2008', '2009', '2010', '2011', '2012', '2013', '2014', '2015']\n",
    "GDPM=GDP[colsGDP].set_index('Country Name')\n",
    "ScimEnM=ScimEn.set_index('Country')"
   ]
  },
  {
   "cell_type": "code",
   "execution_count": null,
   "metadata": {},
   "outputs": [],
   "source": [
    "def answer_one():\n",
    "    M1=pd.merge(ScimEnM[:15], energyM, how='left', left_index=True, right_index=True)\n",
    "    M2=pd.merge(M1, GDPM, how='left', left_index=True, right_index=True)\n",
    "    return M2\n",
    "\n",
    "answer_one()"
   ]
  },
  {
   "cell_type": "markdown",
   "metadata": {},
   "source": [
    "### Question 2\n",
    "The previous question joined three datasets then reduced this to just the top 15 rntries. When you joined the datasets, but before you reduced this to the top 15 items, how many entries did you lose?\n",
    "\n",
    "*This function should return a single number.*"
   ]
  },
  {
   "cell_type": "code",
   "execution_count": null,
   "metadata": {},
   "outputs": [],
   "source": [
    "%%HTML\n",
    "<svg width=\"800\" height=\"300\">\n",
    "  <circle cx=\"150\" cy=\"180\" r=\"80\" fill-opacity=\"0.2\" stroke=\"black\" stroke-width=\"2\" fill=\"blue\" />\n",
    "  <circle cx=\"200\" cy=\"100\" r=\"80\" fill-opacity=\"0.2\" stroke=\"black\" stroke-width=\"2\" fill=\"red\" />\n",
    "  <circle cx=\"100\" cy=\"100\" r=\"80\" fill-opacity=\"0.2\" stroke=\"black\" stroke-width=\"2\" fill=\"green\" />\n",
    "  <line x1=\"150\" y1=\"125\" x2=\"300\" y2=\"150\" stroke=\"black\" stroke-width=\"2\" fill=\"black\" stroke-dasharray=\"5,3\"/>\n",
    "  <text  x=\"300\" y=\"165\" font-family=\"Verdana\" font-size=\"35\">Everything but this!</text>\n",
    "</svg>"
   ]
  },
  {
   "cell_type": "code",
   "execution_count": null,
   "metadata": {},
   "outputs": [],
   "source": [
    "def answer_two():\n",
    "    M1=pd.merge(ScimEnM, energyM, how='outer', left_index=True, right_index=True)\n",
    "    M2=pd.merge(M1, GDPM, how='outer', left_index=True, right_index=True)\n",
    "    M3=pd.merge(ScimEnM, energyM, how='inner', left_index=True, right_index=True)\n",
    "    M4=pd.merge(M3, GDPM, how='inner', left_index=True, right_index=True)\n",
    "    return len(M2)-len(M4)\n",
    "\n",
    "answer_two()"
   ]
  },
  {
   "cell_type": "markdown",
   "metadata": {},
   "source": [
    "### Question 3\n",
    "What is the average GDP over the last 10 years for each country? (exclude missing values from this calculation.)\n",
    "\n",
    "*This function should return a Series named `avgGDP` with 15 countries and their average GDP sorted in descending order.*"
   ]
  },
  {
   "cell_type": "code",
   "execution_count": null,
   "metadata": {},
   "outputs": [],
   "source": [
    "def answer_three():\n",
    "    Top15=answer_one()\n",
    "    import numpy as np\n",
    "    def avgGDP(row):\n",
    "        deta=row[['2006','2007','2008','2009','2010','2011','2012','2013','2014','2015']]\n",
    "        return pd.Series({'avgGDP': np.mean(data)})\n",
    "    answer3=Top15.apply(avgGDP, axis=1)['avgGDP'].sort_values(ascending=False)\n",
    "    return answer3\n",
    "\n",
    "answer_three()"
   ]
  },
  {
   "cell_type": "markdown",
   "metadata": {},
   "source": [
    "### Question 4\n",
    "By how much had the GDP changed over the 10 year span for the country with the 6th largest average GDP?\n",
    "\n",
    "*This function should return a single number.*"
   ]
  },
  {
   "cell_type": "code",
   "execution_count": null,
   "metadata": {},
   "outputs": [],
   "source": [
    "def answer_four():\n",
    "    import pandas as pd\n",
    "    import numpy as np\n",
    "    Top15=answer_one()\n",
    "    the_6th_largest_avgGDP=answer_three()\n",
    "    the_6th=Top15[Top15.index==the_6th_largest_avgGDP.index[5]]\n",
    "    the_6th_span=the_6th['2015']-the_6th['2006']\n",
    "    return the_6th_span[0]\n",
    "\n",
    "answer_four()"
   ]
  },
  {
   "cell_type": "markdown",
   "metadata": {},
   "source": [
    "### Question 5\n",
    "What is the mean `Energy Supply per Capita`?\n",
    "\n",
    "*This function should return a single number.*"
   ]
  },
  {
   "cell_type": "code",
   "execution_count": null,
   "metadata": {},
   "outputs": [],
   "source": [
    "def answer_five():\n",
    "    Top15=answer_one()\n",
    "    import numpy as np\n",
    "    mean=np.average(Top15['Energy Supply per Capita'])\n",
    "    return np.asscalar(mean)\n",
    "\n",
    "answer_five()"
   ]
  },
  {
   "cell_type": "code",
   "execution_count": null,
   "metadata": {},
   "outputs": [],
   "source": []
  },
  {
   "cell_type": "code",
   "execution_count": null,
   "metadata": {},
   "outputs": [],
   "source": []
  },
  {
   "cell_type": "code",
   "execution_count": null,
   "metadata": {},
   "outputs": [],
   "source": []
  },
  {
   "cell_type": "code",
   "execution_count": null,
   "metadata": {},
   "outputs": [],
   "source": [
    "\n"
   ]
  },
  {
   "cell_type": "code",
   "execution_count": null,
   "metadata": {},
   "outputs": [],
   "source": []
  },
  {
   "cell_type": "code",
   "execution_count": null,
   "metadata": {},
   "outputs": [],
   "source": []
  },
  {
   "cell_type": "code",
   "execution_count": null,
   "metadata": {},
   "outputs": [],
   "source": []
  }
 ],
 "metadata": {
  "kernelspec": {
   "display_name": "Python 3",
   "language": "python",
   "name": "python3"
  },
  "language_info": {
   "codemirror_mode": {
    "name": "ipython",
    "version": 3
   },
   "file_extension": ".py",
   "mimetype": "text/x-python",
   "name": "python",
   "nbconvert_exporter": "python",
   "pygments_lexer": "ipython3",
   "version": "3.6.5"
  }
 },
 "nbformat": 4,
 "nbformat_minor": 2
}
